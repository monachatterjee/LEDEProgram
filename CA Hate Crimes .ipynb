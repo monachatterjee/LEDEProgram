{
 "cells": [
  {
   "cell_type": "code",
   "execution_count": 1,
   "id": "ceb85a6e",
   "metadata": {},
   "outputs": [
    {
     "name": "stderr",
     "output_type": "stream",
     "text": [
      "/Users/chandrimachatterjee/.pyenv/versions/3.8.10/lib/python3.8/site-packages/pandas/compat/__init__.py:109: UserWarning: Could not import the lzma module. Your installed Python is incomplete. Attempting to use lzma compression will result in a RuntimeError.\n",
      "  warnings.warn(msg)\n"
     ]
    }
   ],
   "source": [
    "import pandas as pd"
   ]
  },
  {
   "cell_type": "code",
   "execution_count": 3,
   "id": "6a57fdff",
   "metadata": {},
   "outputs": [],
   "source": [
    "df= pd.read_csv(\"Hate-2001-2020.csv\")\n"
   ]
  },
  {
   "cell_type": "code",
   "execution_count": 4,
   "id": "e83cc9ae",
   "metadata": {},
   "outputs": [
    {
     "data": {
      "text/html": [
       "<div>\n",
       "<style scoped>\n",
       "    .dataframe tbody tr th:only-of-type {\n",
       "        vertical-align: middle;\n",
       "    }\n",
       "\n",
       "    .dataframe tbody tr th {\n",
       "        vertical-align: top;\n",
       "    }\n",
       "\n",
       "    .dataframe thead th {\n",
       "        text-align: right;\n",
       "    }\n",
       "</style>\n",
       "<table border=\"1\" class=\"dataframe\">\n",
       "  <thead>\n",
       "    <tr style=\"text-align: right;\">\n",
       "      <th></th>\n",
       "      <th>RecordId</th>\n",
       "      <th>ClosedYear</th>\n",
       "      <th>MonthOccurrence</th>\n",
       "      <th>County</th>\n",
       "      <th>NCIC</th>\n",
       "      <th>TotalNumberOfVictims</th>\n",
       "      <th>TotalNumberOfIndividualVictims</th>\n",
       "      <th>SuspectsRaceAsAGroup</th>\n",
       "      <th>TotalNumberOfSuspects</th>\n",
       "      <th>MostSeriousUcr</th>\n",
       "      <th>...</th>\n",
       "      <th>MostSeriousBiasType</th>\n",
       "      <th>MostSeriousVictimType</th>\n",
       "      <th>WeaponType</th>\n",
       "      <th>Offensive_Act</th>\n",
       "      <th>IsMultipleBias</th>\n",
       "      <th>TotalNumberOfIndividualVictimsAdult</th>\n",
       "      <th>TotalNumberOfIndividualVictimsJuvenile</th>\n",
       "      <th>TotalNumberOfSuspectsAdult</th>\n",
       "      <th>TotalNumberOfSuspectsJuvenile</th>\n",
       "      <th>SuspectsEthnicityAsAGroup</th>\n",
       "    </tr>\n",
       "  </thead>\n",
       "  <tbody>\n",
       "    <tr>\n",
       "      <th>0</th>\n",
       "      <td>CA01-0000000001</td>\n",
       "      <td>2001</td>\n",
       "      <td>2</td>\n",
       "      <td>1</td>\n",
       "      <td>100</td>\n",
       "      <td>1</td>\n",
       "      <td>1</td>\n",
       "      <td>White</td>\n",
       "      <td>2</td>\n",
       "      <td>Simple Assault</td>\n",
       "      <td>...</td>\n",
       "      <td>Race/Ethnicity/Ancestry</td>\n",
       "      <td>Person</td>\n",
       "      <td>Personal weapons (hands, feet, teeth, etc.)</td>\n",
       "      <td>Verbal slurs</td>\n",
       "      <td>NaN</td>\n",
       "      <td>NaN</td>\n",
       "      <td>NaN</td>\n",
       "      <td>NaN</td>\n",
       "      <td>NaN</td>\n",
       "      <td>NaN</td>\n",
       "    </tr>\n",
       "    <tr>\n",
       "      <th>1</th>\n",
       "      <td>CA01-0000000005</td>\n",
       "      <td>2001</td>\n",
       "      <td>2</td>\n",
       "      <td>1</td>\n",
       "      <td>100</td>\n",
       "      <td>2</td>\n",
       "      <td>2</td>\n",
       "      <td>White</td>\n",
       "      <td>1</td>\n",
       "      <td>Destruction/Damage/Vandalism</td>\n",
       "      <td>...</td>\n",
       "      <td>Race/Ethnicity/Ancestry</td>\n",
       "      <td>Person</td>\n",
       "      <td>NaN</td>\n",
       "      <td>Graffiti</td>\n",
       "      <td>NaN</td>\n",
       "      <td>NaN</td>\n",
       "      <td>NaN</td>\n",
       "      <td>NaN</td>\n",
       "      <td>NaN</td>\n",
       "      <td>NaN</td>\n",
       "    </tr>\n",
       "    <tr>\n",
       "      <th>2</th>\n",
       "      <td>CA01-0000000003</td>\n",
       "      <td>2001</td>\n",
       "      <td>5</td>\n",
       "      <td>1</td>\n",
       "      <td>100</td>\n",
       "      <td>1</td>\n",
       "      <td>1</td>\n",
       "      <td>White</td>\n",
       "      <td>4</td>\n",
       "      <td>Destruction/Damage/Vandalism</td>\n",
       "      <td>...</td>\n",
       "      <td>Race/Ethnicity/Ancestry</td>\n",
       "      <td>Person</td>\n",
       "      <td>NaN</td>\n",
       "      <td>Daubing of swastika</td>\n",
       "      <td>NaN</td>\n",
       "      <td>NaN</td>\n",
       "      <td>NaN</td>\n",
       "      <td>NaN</td>\n",
       "      <td>NaN</td>\n",
       "      <td>NaN</td>\n",
       "    </tr>\n",
       "    <tr>\n",
       "      <th>3</th>\n",
       "      <td>CA01-0000000002</td>\n",
       "      <td>2001</td>\n",
       "      <td>9</td>\n",
       "      <td>1</td>\n",
       "      <td>100</td>\n",
       "      <td>1</td>\n",
       "      <td>1</td>\n",
       "      <td>White</td>\n",
       "      <td>1</td>\n",
       "      <td>Intimidation</td>\n",
       "      <td>...</td>\n",
       "      <td>Race/Ethnicity/Ancestry</td>\n",
       "      <td>Person</td>\n",
       "      <td>NaN</td>\n",
       "      <td>Verbal slurs</td>\n",
       "      <td>NaN</td>\n",
       "      <td>NaN</td>\n",
       "      <td>NaN</td>\n",
       "      <td>NaN</td>\n",
       "      <td>NaN</td>\n",
       "      <td>NaN</td>\n",
       "    </tr>\n",
       "    <tr>\n",
       "      <th>4</th>\n",
       "      <td>CA01-0000000004</td>\n",
       "      <td>2001</td>\n",
       "      <td>9</td>\n",
       "      <td>1</td>\n",
       "      <td>100</td>\n",
       "      <td>2</td>\n",
       "      <td>2</td>\n",
       "      <td>White</td>\n",
       "      <td>1</td>\n",
       "      <td>Intimidation</td>\n",
       "      <td>...</td>\n",
       "      <td>Race/Ethnicity/Ancestry</td>\n",
       "      <td>Person</td>\n",
       "      <td>NaN</td>\n",
       "      <td>Verbal slurs</td>\n",
       "      <td>NaN</td>\n",
       "      <td>NaN</td>\n",
       "      <td>NaN</td>\n",
       "      <td>NaN</td>\n",
       "      <td>NaN</td>\n",
       "      <td>NaN</td>\n",
       "    </tr>\n",
       "  </tbody>\n",
       "</table>\n",
       "<p>5 rows × 23 columns</p>\n",
       "</div>"
      ],
      "text/plain": [
       "          RecordId  ClosedYear  MonthOccurrence  County NCIC  \\\n",
       "0  CA01-0000000001        2001                2       1  100   \n",
       "1  CA01-0000000005        2001                2       1  100   \n",
       "2  CA01-0000000003        2001                5       1  100   \n",
       "3  CA01-0000000002        2001                9       1  100   \n",
       "4  CA01-0000000004        2001                9       1  100   \n",
       "\n",
       "   TotalNumberOfVictims  TotalNumberOfIndividualVictims SuspectsRaceAsAGroup  \\\n",
       "0                     1                               1                White   \n",
       "1                     2                               2                White   \n",
       "2                     1                               1                White   \n",
       "3                     1                               1                White   \n",
       "4                     2                               2                White   \n",
       "\n",
       "   TotalNumberOfSuspects                MostSeriousUcr  ...  \\\n",
       "0                      2                Simple Assault  ...   \n",
       "1                      1  Destruction/Damage/Vandalism  ...   \n",
       "2                      4  Destruction/Damage/Vandalism  ...   \n",
       "3                      1                  Intimidation  ...   \n",
       "4                      1                  Intimidation  ...   \n",
       "\n",
       "       MostSeriousBiasType MostSeriousVictimType  \\\n",
       "0  Race/Ethnicity/Ancestry                Person   \n",
       "1  Race/Ethnicity/Ancestry                Person   \n",
       "2  Race/Ethnicity/Ancestry                Person   \n",
       "3  Race/Ethnicity/Ancestry                Person   \n",
       "4  Race/Ethnicity/Ancestry                Person   \n",
       "\n",
       "                                    WeaponType        Offensive_Act  \\\n",
       "0  Personal weapons (hands, feet, teeth, etc.)         Verbal slurs   \n",
       "1                                          NaN             Graffiti   \n",
       "2                                          NaN  Daubing of swastika   \n",
       "3                                          NaN         Verbal slurs   \n",
       "4                                          NaN         Verbal slurs   \n",
       "\n",
       "  IsMultipleBias TotalNumberOfIndividualVictimsAdult  \\\n",
       "0            NaN                                 NaN   \n",
       "1            NaN                                 NaN   \n",
       "2            NaN                                 NaN   \n",
       "3            NaN                                 NaN   \n",
       "4            NaN                                 NaN   \n",
       "\n",
       "  TotalNumberOfIndividualVictimsJuvenile TotalNumberOfSuspectsAdult  \\\n",
       "0                                    NaN                        NaN   \n",
       "1                                    NaN                        NaN   \n",
       "2                                    NaN                        NaN   \n",
       "3                                    NaN                        NaN   \n",
       "4                                    NaN                        NaN   \n",
       "\n",
       "   TotalNumberOfSuspectsJuvenile  SuspectsEthnicityAsAGroup  \n",
       "0                            NaN                        NaN  \n",
       "1                            NaN                        NaN  \n",
       "2                            NaN                        NaN  \n",
       "3                            NaN                        NaN  \n",
       "4                            NaN                        NaN  \n",
       "\n",
       "[5 rows x 23 columns]"
      ]
     },
     "execution_count": 4,
     "metadata": {},
     "output_type": "execute_result"
    }
   ],
   "source": [
    "df.head()"
   ]
  },
  {
   "cell_type": "code",
   "execution_count": 5,
   "id": "65d3dc0d",
   "metadata": {},
   "outputs": [
    {
     "data": {
      "text/html": [
       "<div>\n",
       "<style scoped>\n",
       "    .dataframe tbody tr th:only-of-type {\n",
       "        vertical-align: middle;\n",
       "    }\n",
       "\n",
       "    .dataframe tbody tr th {\n",
       "        vertical-align: top;\n",
       "    }\n",
       "\n",
       "    .dataframe thead th {\n",
       "        text-align: right;\n",
       "    }\n",
       "</style>\n",
       "<table border=\"1\" class=\"dataframe\">\n",
       "  <thead>\n",
       "    <tr style=\"text-align: right;\">\n",
       "      <th></th>\n",
       "      <th>ClosedYear</th>\n",
       "      <th>MonthOccurrence</th>\n",
       "      <th>County</th>\n",
       "      <th>TotalNumberOfVictims</th>\n",
       "      <th>TotalNumberOfIndividualVictims</th>\n",
       "      <th>TotalNumberOfSuspects</th>\n",
       "      <th>TotalNumberOfIndividualVictimsAdult</th>\n",
       "      <th>TotalNumberOfIndividualVictimsJuvenile</th>\n",
       "      <th>TotalNumberOfSuspectsAdult</th>\n",
       "      <th>TotalNumberOfSuspectsJuvenile</th>\n",
       "    </tr>\n",
       "  </thead>\n",
       "  <tbody>\n",
       "    <tr>\n",
       "      <th>count</th>\n",
       "      <td>24436.000000</td>\n",
       "      <td>24436.000000</td>\n",
       "      <td>24436.000000</td>\n",
       "      <td>24436.000000</td>\n",
       "      <td>24436.000000</td>\n",
       "      <td>24436.000000</td>\n",
       "      <td>5963.000000</td>\n",
       "      <td>5963.000000</td>\n",
       "      <td>5963.000000</td>\n",
       "      <td>5963.000000</td>\n",
       "    </tr>\n",
       "    <tr>\n",
       "      <th>mean</th>\n",
       "      <td>2009.346579</td>\n",
       "      <td>6.427525</td>\n",
       "      <td>27.567401</td>\n",
       "      <td>1.209732</td>\n",
       "      <td>1.073907</td>\n",
       "      <td>1.057702</td>\n",
       "      <td>0.952876</td>\n",
       "      <td>0.081335</td>\n",
       "      <td>0.875231</td>\n",
       "      <td>0.083850</td>\n",
       "    </tr>\n",
       "    <tr>\n",
       "      <th>std</th>\n",
       "      <td>6.049120</td>\n",
       "      <td>3.297776</td>\n",
       "      <td>12.890920</td>\n",
       "      <td>0.775260</td>\n",
       "      <td>0.878512</td>\n",
       "      <td>1.521642</td>\n",
       "      <td>0.682085</td>\n",
       "      <td>0.613440</td>\n",
       "      <td>1.099173</td>\n",
       "      <td>0.550392</td>\n",
       "    </tr>\n",
       "    <tr>\n",
       "      <th>min</th>\n",
       "      <td>2001.000000</td>\n",
       "      <td>1.000000</td>\n",
       "      <td>1.000000</td>\n",
       "      <td>1.000000</td>\n",
       "      <td>0.000000</td>\n",
       "      <td>0.000000</td>\n",
       "      <td>0.000000</td>\n",
       "      <td>0.000000</td>\n",
       "      <td>0.000000</td>\n",
       "      <td>0.000000</td>\n",
       "    </tr>\n",
       "    <tr>\n",
       "      <th>25%</th>\n",
       "      <td>2004.000000</td>\n",
       "      <td>4.000000</td>\n",
       "      <td>19.000000</td>\n",
       "      <td>1.000000</td>\n",
       "      <td>1.000000</td>\n",
       "      <td>0.000000</td>\n",
       "      <td>1.000000</td>\n",
       "      <td>0.000000</td>\n",
       "      <td>0.000000</td>\n",
       "      <td>0.000000</td>\n",
       "    </tr>\n",
       "    <tr>\n",
       "      <th>50%</th>\n",
       "      <td>2008.000000</td>\n",
       "      <td>6.000000</td>\n",
       "      <td>25.500000</td>\n",
       "      <td>1.000000</td>\n",
       "      <td>1.000000</td>\n",
       "      <td>1.000000</td>\n",
       "      <td>1.000000</td>\n",
       "      <td>0.000000</td>\n",
       "      <td>1.000000</td>\n",
       "      <td>0.000000</td>\n",
       "    </tr>\n",
       "    <tr>\n",
       "      <th>75%</th>\n",
       "      <td>2015.000000</td>\n",
       "      <td>9.000000</td>\n",
       "      <td>37.000000</td>\n",
       "      <td>1.000000</td>\n",
       "      <td>1.000000</td>\n",
       "      <td>1.000000</td>\n",
       "      <td>1.000000</td>\n",
       "      <td>0.000000</td>\n",
       "      <td>1.000000</td>\n",
       "      <td>0.000000</td>\n",
       "    </tr>\n",
       "    <tr>\n",
       "      <th>max</th>\n",
       "      <td>2020.000000</td>\n",
       "      <td>12.000000</td>\n",
       "      <td>58.000000</td>\n",
       "      <td>50.000000</td>\n",
       "      <td>50.000000</td>\n",
       "      <td>50.000000</td>\n",
       "      <td>9.000000</td>\n",
       "      <td>40.000000</td>\n",
       "      <td>30.000000</td>\n",
       "      <td>15.000000</td>\n",
       "    </tr>\n",
       "  </tbody>\n",
       "</table>\n",
       "</div>"
      ],
      "text/plain": [
       "         ClosedYear  MonthOccurrence        County  TotalNumberOfVictims  \\\n",
       "count  24436.000000     24436.000000  24436.000000          24436.000000   \n",
       "mean    2009.346579         6.427525     27.567401              1.209732   \n",
       "std        6.049120         3.297776     12.890920              0.775260   \n",
       "min     2001.000000         1.000000      1.000000              1.000000   \n",
       "25%     2004.000000         4.000000     19.000000              1.000000   \n",
       "50%     2008.000000         6.000000     25.500000              1.000000   \n",
       "75%     2015.000000         9.000000     37.000000              1.000000   \n",
       "max     2020.000000        12.000000     58.000000             50.000000   \n",
       "\n",
       "       TotalNumberOfIndividualVictims  TotalNumberOfSuspects  \\\n",
       "count                    24436.000000           24436.000000   \n",
       "mean                         1.073907               1.057702   \n",
       "std                          0.878512               1.521642   \n",
       "min                          0.000000               0.000000   \n",
       "25%                          1.000000               0.000000   \n",
       "50%                          1.000000               1.000000   \n",
       "75%                          1.000000               1.000000   \n",
       "max                         50.000000              50.000000   \n",
       "\n",
       "       TotalNumberOfIndividualVictimsAdult  \\\n",
       "count                          5963.000000   \n",
       "mean                              0.952876   \n",
       "std                               0.682085   \n",
       "min                               0.000000   \n",
       "25%                               1.000000   \n",
       "50%                               1.000000   \n",
       "75%                               1.000000   \n",
       "max                               9.000000   \n",
       "\n",
       "       TotalNumberOfIndividualVictimsJuvenile  TotalNumberOfSuspectsAdult  \\\n",
       "count                             5963.000000                 5963.000000   \n",
       "mean                                 0.081335                    0.875231   \n",
       "std                                  0.613440                    1.099173   \n",
       "min                                  0.000000                    0.000000   \n",
       "25%                                  0.000000                    0.000000   \n",
       "50%                                  0.000000                    1.000000   \n",
       "75%                                  0.000000                    1.000000   \n",
       "max                                 40.000000                   30.000000   \n",
       "\n",
       "       TotalNumberOfSuspectsJuvenile  \n",
       "count                    5963.000000  \n",
       "mean                        0.083850  \n",
       "std                         0.550392  \n",
       "min                         0.000000  \n",
       "25%                         0.000000  \n",
       "50%                         0.000000  \n",
       "75%                         0.000000  \n",
       "max                        15.000000  "
      ]
     },
     "execution_count": 5,
     "metadata": {},
     "output_type": "execute_result"
    }
   ],
   "source": [
    "df.describe()"
   ]
  },
  {
   "cell_type": "code",
   "execution_count": 7,
   "id": "c532d5db",
   "metadata": {},
   "outputs": [
    {
     "data": {
      "text/plain": [
       "RecordId                                   object\n",
       "ClosedYear                                  int64\n",
       "MonthOccurrence                             int64\n",
       "County                                      int64\n",
       "NCIC                                       object\n",
       "TotalNumberOfVictims                        int64\n",
       "TotalNumberOfIndividualVictims              int64\n",
       "SuspectsRaceAsAGroup                       object\n",
       "TotalNumberOfSuspects                       int64\n",
       "MostSeriousUcr                             object\n",
       "MostSeriousUcrType                         object\n",
       "MostSeriousLocation                        object\n",
       "MostSeriousBias                            object\n",
       "MostSeriousBiasType                        object\n",
       "MostSeriousVictimType                      object\n",
       "WeaponType                                 object\n",
       "Offensive_Act                              object\n",
       "IsMultipleBias                             object\n",
       "TotalNumberOfIndividualVictimsAdult       float64\n",
       "TotalNumberOfIndividualVictimsJuvenile    float64\n",
       "TotalNumberOfSuspectsAdult                float64\n",
       "TotalNumberOfSuspectsJuvenile             float64\n",
       "SuspectsEthnicityAsAGroup                  object\n",
       "dtype: object"
      ]
     },
     "execution_count": 7,
     "metadata": {},
     "output_type": "execute_result"
    }
   ],
   "source": [
    "df.dtypes"
   ]
  },
  {
   "cell_type": "code",
   "execution_count": 8,
   "id": "6c0b2bd9",
   "metadata": {},
   "outputs": [
    {
     "data": {
      "text/plain": [
       "count                              24436\n",
       "unique                                35\n",
       "top       Anti-Black or African American\n",
       "freq                                7508\n",
       "Name: MostSeriousBias, dtype: object"
      ]
     },
     "execution_count": 8,
     "metadata": {},
     "output_type": "execute_result"
    }
   ],
   "source": [
    "df.MostSeriousBias.describe()"
   ]
  },
  {
   "cell_type": "code",
   "execution_count": 9,
   "id": "88aecb42",
   "metadata": {},
   "outputs": [
    {
     "data": {
      "text/plain": [
       "count                       24436\n",
       "unique                          6\n",
       "top       Race/Ethnicity/Ancestry\n",
       "freq                        14696\n",
       "Name: MostSeriousBiasType, dtype: object"
      ]
     },
     "execution_count": 9,
     "metadata": {},
     "output_type": "execute_result"
    }
   ],
   "source": [
    "df.MostSeriousBiasType.describe()"
   ]
  },
  {
   "cell_type": "code",
   "execution_count": 10,
   "id": "f9205c49",
   "metadata": {},
   "outputs": [
    {
     "data": {
      "text/plain": [
       "count            24074\n",
       "unique              14\n",
       "top       Verbal slurs\n",
       "freq             11043\n",
       "Name: Offensive_Act, dtype: object"
      ]
     },
     "execution_count": 10,
     "metadata": {},
     "output_type": "execute_result"
    }
   ],
   "source": [
    "df.Offensive_Act.describe()"
   ]
  },
  {
   "cell_type": "code",
   "execution_count": 16,
   "id": "5b96ed39",
   "metadata": {},
   "outputs": [
    {
     "data": {
      "text/plain": [
       "24436"
      ]
     },
     "execution_count": 16,
     "metadata": {},
     "output_type": "execute_result"
    }
   ],
   "source": [
    "df.TotalNumberOfIndividualVictims.count()"
   ]
  },
  {
   "cell_type": "code",
   "execution_count": 15,
   "id": "79ec024d",
   "metadata": {},
   "outputs": [
    {
     "data": {
      "text/plain": [
       "5963"
      ]
     },
     "execution_count": 15,
     "metadata": {},
     "output_type": "execute_result"
    }
   ],
   "source": [
    "df.TotalNumberOfIndividualVictimsJuvenile.count()"
   ]
  },
  {
   "cell_type": "code",
   "execution_count": 17,
   "id": "3b0f2c11",
   "metadata": {},
   "outputs": [
    {
     "data": {
      "text/plain": [
       "count        4813\n",
       "unique          4\n",
       "top       Unknown\n",
       "freq         2566\n",
       "Name: SuspectsEthnicityAsAGroup, dtype: object"
      ]
     },
     "execution_count": 17,
     "metadata": {},
     "output_type": "execute_result"
    }
   ],
   "source": [
    "df.SuspectsEthnicityAsAGroup.describe()"
   ]
  },
  {
   "cell_type": "code",
   "execution_count": 27,
   "id": "d7dca94c",
   "metadata": {},
   "outputs": [
    {
     "data": {
      "text/plain": [
       "<AxesSubplot:>"
      ]
     },
     "execution_count": 27,
     "metadata": {},
     "output_type": "execute_result"
    },
    {
     "data": {
      "image/png": "[encoded data removed]",
      "text/plain": [
       "<Figure size 432x288 with 1 Axes>"
      ]
     },
     "metadata": {
      "needs_background": "light"
     },
     "output_type": "display_data"
    }
   ],
   "source": [
    "df.SuspectsRaceAsAGroup.hist()"
   ]
  },
  {
   "cell_type": "code",
   "execution_count": null,
   "id": "ae1cb267",
   "metadata": {},
   "outputs": [],
   "source": [
    "df.Offensive_Act."
   ]
  }
 ],
 "metadata": {
  "kernelspec": {
   "display_name": "Python 3",
   "language": "python",
   "name": "python3"
  },
  "language_info": {
   "codemirror_mode": {
    "name": "ipython",
    "version": 3
   },
   "file_extension": ".py",
   "mimetype": "text/x-python",
   "name": "python",
   "nbconvert_exporter": "python",
   "pygments_lexer": "ipython3",
   "version": "3.8.10"
  }
 },
 "nbformat": 4,
 "nbformat_minor": 5
}
